{
 "cells": [
  {
   "cell_type": "markdown",
   "id": "4f038c3b-c73d-48cf-a3c8-085853b51f9b",
   "metadata": {},
   "source": [
    "# Data Science Tools and Ecosystem"
   ]
  },
  {
   "cell_type": "markdown",
   "id": "f00be9bd-385b-42ec-b18d-5d089159ef44",
   "metadata": {},
   "source": [
    "In this notebook, Data Science Tools and Ecosystem are summarized.\n",
    "\n",
    "**Objectives :**\n",
    "- List popular languages for Data Science\n",
    "- List of Libraries \n",
    "- Data Science tools table "
   ]
  },
  {
   "cell_type": "markdown",
   "id": "e65e9af6-8b1a-4970-8053-79e83f2d73c3",
   "metadata": {},
   "source": [
    "Some of the popular languages that Data Scientists use are:\n",
    "1. Python\n",
    "2. Java\n",
    "3. C++\n",
    "4. R"
   ]
  },
  {
   "cell_type": "markdown",
   "id": "c7d602a5-6149-4f3e-80ee-f3b4dad87579",
   "metadata": {},
   "source": [
    "Some of the commonly used libraries used by Data Scientists include:\n",
    "1. Scikit-learn\n",
    "2. TensorFlow\n",
    "3. Pandas"
   ]
  },
  {
   "cell_type": "markdown",
   "id": "6287b714-a6fc-45dc-8f19-a21fd7e8df94",
   "metadata": {},
   "source": [
    "|Data Science Tools |\n",
    "| -------------|\n",
    "|MySQL         |\n",
    "|Apache Airflow|\n",
    "|Tableau |"
   ]
  },
  {
   "cell_type": "markdown",
   "id": "a5a9ce5e-c368-4983-af1a-bfc3c3ce4af3",
   "metadata": {},
   "source": [
    "### Below are a few examples of evaluating arithmetic expressions in Python"
   ]
  },
  {
   "cell_type": "code",
   "execution_count": 1,
   "id": "1681c801-a10c-4635-9c2e-29663b8c09b3",
   "metadata": {
    "tags": []
   },
   "outputs": [
    {
     "data": {
      "text/plain": [
       "17"
      ]
     },
     "execution_count": 1,
     "metadata": {},
     "output_type": "execute_result"
    }
   ],
   "source": [
    "# This a simple arithmetic expression to mutiply then add integers\n",
    "(3*4)+5"
   ]
  },
  {
   "cell_type": "code",
   "execution_count": 2,
   "id": "175b4aea-f157-4e66-a8ed-9488b287c5c9",
   "metadata": {
    "tags": []
   },
   "outputs": [
    {
     "data": {
      "text/plain": [
       "3.3333333333333335"
      ]
     },
     "execution_count": 2,
     "metadata": {},
     "output_type": "execute_result"
    }
   ],
   "source": [
    "# This will convert 200 minutes to hours by diving by 60\n",
    "200/60"
   ]
  },
  {
   "cell_type": "markdown",
   "id": "39694070-85b2-4d3e-be9d-ac947eb75912",
   "metadata": {},
   "source": [
    "## Author \n",
    "Yaghoub EL VAGHA ZEIN"
   ]
  },
  {
   "cell_type": "code",
   "execution_count": null,
   "id": "67738fdd-09ed-42bf-9f02-61c6733a0d2b",
   "metadata": {},
   "outputs": [],
   "source": []
  }
 ],
 "metadata": {
  "kernelspec": {
   "display_name": "Python",
   "language": "python",
   "name": "conda-env-python-py"
  },
  "language_info": {
   "codemirror_mode": {
    "name": "ipython",
    "version": 3
   },
   "file_extension": ".py",
   "mimetype": "text/x-python",
   "name": "python",
   "nbconvert_exporter": "python",
   "pygments_lexer": "ipython3",
   "version": "3.7.12"
  }
 },
 "nbformat": 4,
 "nbformat_minor": 5
}
